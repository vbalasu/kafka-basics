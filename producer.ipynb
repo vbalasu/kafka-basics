{
 "cells": [
  {
   "cell_type": "code",
   "execution_count": 2,
   "id": "50605d39-e6f2-4bc8-83ce-1d1b90979ad9",
   "metadata": {},
   "outputs": [],
   "source": [
    "from kafka import KafkaProducer\n",
    "producer = KafkaProducer(bootstrap_servers='localhost:9092')\n",
    "import datetime, json\n",
    "data = json.dumps({'name': 'Vijay', 'when': datetime.datetime.now().isoformat()}).encode()\n",
    "producer.send('quickstart-events', data)\n",
    "producer.flush()"
   ]
  },
  {
   "cell_type": "code",
   "execution_count": null,
   "id": "58770ce6-64c3-417c-82c6-dbf96c26c0ab",
   "metadata": {},
   "outputs": [],
   "source": []
  }
 ],
 "metadata": {
  "kernelspec": {
   "display_name": "Python 3 (ipykernel)",
   "language": "python",
   "name": "python3"
  },
  "language_info": {
   "codemirror_mode": {
    "name": "ipython",
    "version": 3
   },
   "file_extension": ".py",
   "mimetype": "text/x-python",
   "name": "python",
   "nbconvert_exporter": "python",
   "pygments_lexer": "ipython3",
   "version": "3.9.7 (default, Sep 16 2021, 08:50:36) \n[Clang 10.0.0 ]"
  },
  "vscode": {
   "interpreter": {
    "hash": "8a5d5f3cd7ecfbb0a3aa03e59e328885dc8534e383f6e248c01d8ea9a6d124fd"
   }
  }
 },
 "nbformat": 4,
 "nbformat_minor": 5
}
