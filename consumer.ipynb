{
 "cells": [
  {
   "cell_type": "code",
   "execution_count": 3,
   "id": "3426b0ea-d990-4c46-9eb5-5abaf38b33ae",
   "metadata": {},
   "outputs": [],
   "source": [
    "from kafka import KafkaConsumer\n",
    "consumer = KafkaConsumer('quickstart-events', bootstrap_servers='localhost:9092', \n",
    "                        consumer_timeout_ms = 15000, \n",
    "                        auto_offset_reset='earliest')"
   ]
  },
  {
   "cell_type": "code",
   "execution_count": 4,
   "id": "6f840814-cff3-418b-ad7b-a0e22b4eb3c0",
   "metadata": {},
   "outputs": [
    {
     "name": "stdout",
     "output_type": "stream",
     "text": [
      "invalid json\n",
      "invalid json\n",
      "invalid json\n",
      "{'name': 'Vijay', 'when': '2023-01-08T06:34:38.933084'}\n",
      "{'name': 'Vijay', 'when': '2023-01-08T06:35:30.697130'}\n",
      "{'name': 'Vijay', 'when': '2023-01-08T06:35:34.490536'}\n",
      "{'name': 'Vijay', 'when': '2023-01-08T06:36:02.193719'}\n",
      "{'name': 'Vijay', 'when': '2023-01-08T06:36:21.180176'}\n",
      "{'name': 'Vijay', 'when': '2023-01-08T07:01:00.206118'}\n"
     ]
    }
   ],
   "source": [
    "import json\n",
    "for message in consumer:\n",
    "    try:\n",
    "        data = json.loads(message.value)\n",
    "        print(data)\n",
    "    except json.decoder.JSONDecodeError:\n",
    "        print('invalid json')"
   ]
  },
  {
   "cell_type": "code",
   "execution_count": null,
   "id": "30f55ff5-02b9-4cd6-a8ff-23d105dab2df",
   "metadata": {},
   "outputs": [],
   "source": []
  }
 ],
 "metadata": {
  "kernelspec": {
   "display_name": "Python 3 (ipykernel)",
   "language": "python",
   "name": "python3"
  },
  "language_info": {
   "codemirror_mode": {
    "name": "ipython",
    "version": 3
   },
   "file_extension": ".py",
   "mimetype": "text/x-python",
   "name": "python",
   "nbconvert_exporter": "python",
   "pygments_lexer": "ipython3",
   "version": "3.9.7 (default, Sep 16 2021, 08:50:36) \n[Clang 10.0.0 ]"
  },
  "vscode": {
   "interpreter": {
    "hash": "8a5d5f3cd7ecfbb0a3aa03e59e328885dc8534e383f6e248c01d8ea9a6d124fd"
   }
  }
 },
 "nbformat": 4,
 "nbformat_minor": 5
}
